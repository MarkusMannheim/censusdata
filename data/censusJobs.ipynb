{
 "cells": [
  {
   "cell_type": "code",
   "execution_count": 26,
   "id": "973a86a8-489c-451a-9f48-1aea0a7511de",
   "metadata": {},
   "outputs": [],
   "source": [
    "import pandas as pd, numpy as np\n",
    "from PyPDF2 import PdfReader\n",
    "\n",
    "# container for parsed text\n",
    "raw_text = []\n",
    "\n",
    "# read text from PDF (2 pages)\n",
    "reader = PdfReader(\"./1991_census.pdf\")\n",
    "for page in range(28, 30):\n",
    "    text = reader.pages[page].extract_text().split(\"\\n\")\n",
    "    raw_text = raw_text + text[4:]\n",
    "\n",
    "# analyse parsed text\n",
    "pd.Series(raw_text).to_csv(\"raw_jobs_text.csv\", index=False)"
   ]
  },
  {
   "cell_type": "code",
   "execution_count": 19,
   "id": "2d51ff2e-2554-4d54-b81b-f7a45b345ee6",
   "metadata": {},
   "outputs": [
    {
     "data": {
      "text/plain": [
       "False"
      ]
     },
     "execution_count": 19,
     "metadata": {},
     "output_type": "execute_result"
    }
   ],
   "source": [
    "\"2,500\".isnumeric()"
   ]
  },
  {
   "cell_type": "code",
   "execution_count": null,
   "id": "22faf9c5-947d-4f4a-8e32-08bb94067b39",
   "metadata": {},
   "outputs": [],
   "source": []
  }
 ],
 "metadata": {
  "kernelspec": {
   "display_name": "Python 3 (ipykernel)",
   "language": "python",
   "name": "python3"
  },
  "language_info": {
   "codemirror_mode": {
    "name": "ipython",
    "version": 3
   },
   "file_extension": ".py",
   "mimetype": "text/x-python",
   "name": "python",
   "nbconvert_exporter": "python",
   "pygments_lexer": "ipython3",
   "version": "3.10.5"
  }
 },
 "nbformat": 4,
 "nbformat_minor": 5
}
