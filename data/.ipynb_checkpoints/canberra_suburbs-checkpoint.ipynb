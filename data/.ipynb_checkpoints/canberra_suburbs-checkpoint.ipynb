{
 "cells": [
  {
   "cell_type": "code",
   "execution_count": 7,
   "id": "e28b80df-2e46-40d6-9bce-1463edbce656",
   "metadata": {},
   "outputs": [],
   "source": [
    "import pandas as pd, numpy as np\n",
    "from os import listdir\n",
    "\n",
    "metadata = pd.read_excel(\n",
    "    \"./metadata.xlsx\",\n",
    "    sheet_name=1,\n",
    "    header=10\n",
    ")\n",
    "\n",
    "file_names = listdir(\"./census_data\")\n",
    "file_names = [file_name for file_name in file_names if \".csv\" in file_name]\n",
    "\n",
    "for i, file_name in enumerate(file_names):\n",
    "    \n",
    "    key = file_name.split(\"_\")[1]\n",
    "    \n",
    "    file_data = pd.read_csv(\n",
    "        f\"./census_data/{file_name}\",\n",
    "        index_col=\"SAL_CODE_2021\"\n",
    "    )\n",
    "    \n",
    "    file_data.columns = [\n",
    "        metadata[\n",
    "            (metadata.DataPackfile == key) &\n",
    "            (metadata.Short == string)\n",
    "        ].iat[0, 2].lower() for string in file_data.columns\n",
    "    ]\n",
    "            \n",
    "    if i == 0:\n",
    "        suburb_data = file_data\n",
    "    \n",
    "    else:        \n",
    "        suburb_data = suburb_data.join(\n",
    "            file_data,\n",
    "            lsuffix=f\"_v{i}\"\n",
    "        )\n",
    "\n",
    "suburb_data.to_csv(\"./raw_suburb_data.csv\")\n"
   ]
  },
  {
   "cell_type": "code",
   "execution_count": null,
   "id": "0a96e81c-5f00-49c4-8903-f77d224eb073",
   "metadata": {},
   "outputs": [],
   "source": []
  },
  {
   "cell_type": "code",
   "execution_count": null,
   "id": "8adb5134-9076-43de-b90b-a8d586059a71",
   "metadata": {},
   "outputs": [],
   "source": []
  }
 ],
 "metadata": {
  "kernelspec": {
   "display_name": "Python 3 (ipykernel)",
   "language": "python",
   "name": "python3"
  },
  "language_info": {
   "codemirror_mode": {
    "name": "ipython",
    "version": 3
   },
   "file_extension": ".py",
   "mimetype": "text/x-python",
   "name": "python",
   "nbconvert_exporter": "python",
   "pygments_lexer": "ipython3",
   "version": "3.10.6"
  }
 },
 "nbformat": 4,
 "nbformat_minor": 5
}
