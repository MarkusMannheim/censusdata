{
 "cells": [
  {
   "cell_type": "code",
   "execution_count": 111,
   "id": "a80de32e-7e59-46ec-88d3-77657db7bb71",
   "metadata": {},
   "outputs": [],
   "source": [
    "import pandas as pd, numpy as np\n",
    "import geopandas as gpd, topojson as tp\n",
    "import matplotlib.pyplot as plt, seaborn as sns\n",
    "\n",
    "data = pd.read_csv(\n",
    "    \"./sa4_census.csv\",\n",
    "    index_col=\"code\"\n",
    ")\n",
    "data.loc[:, \"growth\"] = (data.loc[:, \"2021\"] / data.loc[:, \"2020\"] - 1) * 100\n",
    "data = data[[\"name\", \"2021\", \"growth\"]]\n",
    "data.columns = [\"area\", \"population\", \"growth\"]\n",
    "data = data.loc[\n",
    "    [\n",
    "        code for code in data.index if (\n",
    "            (code < 300) |\n",
    "            (code == 801)\n",
    "        )\n",
    "    ],\n",
    "    :\n",
    "]\n",
    "\n",
    "sa4s = gpd.read_file(\n",
    "    \"SA4_2021_AUST_SHP_GDA2020.zip\"\n",
    ").iloc[:, [0, 1, 12]]\n",
    "sa4s.columns = [\"code\", \"name\", \"geometry\"]\n",
    "sa4s = sa4s[sa4s[\"code\"].str.isnumeric()]\n",
    "sa4s[\"code\"] = sa4s[\"code\"].astype(\"int\")\n",
    "sa4s.set_index(\"code\", inplace=True)\n",
    "sa4s = sa4s.loc[\n",
    "    [\n",
    "        code for code in sa4s.index if (\n",
    "            (code < 300) |\n",
    "            (code == 801)\n",
    "        )\n",
    "    ],\n",
    "    :\n",
    "]\n",
    "\n",
    "sa4s.loc[:, \"population\"] = data.loc[:, \"population\"].copy()\n",
    "sa4s.loc[:, \"growth\"] = data.loc[:, \"growth\"].copy()\n",
    "sa4s = sa4s[[\"name\", \"population\", \"growth\", \"geometry\"]]\n",
    "sa4s.dropna(inplace=True)\n",
    "sa4s[\"name\"] = sa4s[\"name\"].apply(lambda name: name.replace(\" - \", \" — \").replace(\" and \", \" & \"))\n",
    "sa4s[[\"name\", \"population\", \"growth\"]].to_csv(\"sa4s.csv\")"
   ]
  },
  {
   "cell_type": "code",
   "execution_count": 112,
   "id": "f1f96335-e3d2-4573-9763-8e95172825d7",
   "metadata": {},
   "outputs": [],
   "source": [
    "topo = tp.Topology(\n",
    "    sa4s.reset_index(),\n",
    "    toposimplify=1e-3\n",
    ").topoquantize(1e5)\n",
    "topo.to_json(\"sa4s.topojson\")"
   ]
  },
  {
   "cell_type": "code",
   "execution_count": null,
   "id": "2ef21849-84eb-4915-913f-5eaddcbba3cb",
   "metadata": {},
   "outputs": [],
   "source": []
  }
 ],
 "metadata": {
  "kernelspec": {
   "display_name": "Python 3 (ipykernel)",
   "language": "python",
   "name": "python3"
  },
  "language_info": {
   "codemirror_mode": {
    "name": "ipython",
    "version": 3
   },
   "file_extension": ".py",
   "mimetype": "text/x-python",
   "name": "python",
   "nbconvert_exporter": "python",
   "pygments_lexer": "ipython3",
   "version": "3.10.6"
  }
 },
 "nbformat": 4,
 "nbformat_minor": 5
}
